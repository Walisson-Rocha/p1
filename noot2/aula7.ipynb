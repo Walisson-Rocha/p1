{
 "cells": [
  {
   "cell_type": "code",
   "execution_count": 1,
   "id": "b035ce2f",
   "metadata": {},
   "outputs": [
    {
     "name": "stdout",
     "output_type": "stream",
     "text": [
      "     pregnancies  glucose  diastolic  triceps  insulin   bmi    dpf  age  \\\n",
      "4              0      137         40       35      168  43.1  2.288   33   \n",
      "6              3       78         50       32       88  31.0  0.248   26   \n",
      "8              2      197         70       45      543  30.5  0.158   53   \n",
      "13             1      189         60       23      846  30.1  0.398   59   \n",
      "16             0      118         84       47      230  45.8  0.551   31   \n",
      "..           ...      ...        ...      ...      ...   ...    ...  ...   \n",
      "748            3      187         70       22      200  36.4  0.408   36   \n",
      "751            1      121         78       39       74  39.0  0.261   28   \n",
      "753            0      181         88       44      510  43.3  0.222   26   \n",
      "755            1      128         88       39      110  36.5  1.057   37   \n",
      "763           10      101         76       48      180  32.9  0.171   63   \n",
      "\n",
      "     diabetes  \n",
      "4           1  \n",
      "6           1  \n",
      "8           1  \n",
      "13          1  \n",
      "16          1  \n",
      "..        ...  \n",
      "748         1  \n",
      "751         0  \n",
      "753         1  \n",
      "755         1  \n",
      "763         0  \n",
      "\n",
      "[259 rows x 9 columns]\n",
      "(259, 8) (259,)\n"
     ]
    }
   ],
   "source": [
    "import pandas as pd\n",
    "\n",
    "diabetes = pd.read_csv('./diabetes_clean.csv')\n",
    "\n",
    "diabetes_df = diabetes[(diabetes['glucose'] > 0) & \n",
    "                        (diabetes['insulin'] > 0) & \n",
    "                        (diabetes['bmi'] > 30)]\n",
    "\n",
    "\n",
    "print(diabetes_df)\n",
    "\n",
    "x = diabetes_df.drop(\"glucose\", axis=1).values\n",
    "y = diabetes_df[\"glucose\"].values\n",
    "print(x.shape, y.shape)"
   ]
  }
 ],
 "metadata": {
  "kernelspec": {
   "display_name": "Python 3",
   "language": "python",
   "name": "python3"
  },
  "language_info": {
   "codemirror_mode": {
    "name": "ipython",
    "version": 3
   },
   "file_extension": ".py",
   "mimetype": "text/x-python",
   "name": "python",
   "nbconvert_exporter": "python",
   "pygments_lexer": "ipython3",
   "version": "3.12.10"
  }
 },
 "nbformat": 4,
 "nbformat_minor": 5
}
